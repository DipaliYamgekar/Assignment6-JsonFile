{
 "cells": [
  {
   "cell_type": "code",
   "execution_count": 20,
   "id": "f0c73735",
   "metadata": {},
   "outputs": [
    {
     "ename": "IndentationError",
     "evalue": "expected an indented block (4246983652.py, line 3)",
     "output_type": "error",
     "traceback": [
      "\u001b[1;36m  Input \u001b[1;32mIn [20]\u001b[1;36m\u001b[0m\n\u001b[1;33m    Employees = [\u001b[0m\n\u001b[1;37m    ^\u001b[0m\n\u001b[1;31mIndentationError\u001b[0m\u001b[1;31m:\u001b[0m expected an indented block\n"
     ]
    }
   ],
   "source": [
    "import json\n",
    "Employees = [\n",
    "\n",
    "{\n",
    "    \"Name-->\": \"Rajesh\", \"DOB-->\": \"10/11/1997\", \"Height \": \"175.12Cm.\", \"City\": \"Panji\", \"State\": \"Goa\",\n",
    "    \n",
    "   \n",
    "},\n",
    "    \n",
    "{\n",
    "    \"Name-->\": \"Pankaja\", \"DOB-->\": \"12/10/1998\", \"Height \": \"152.09Cm.\", \"City\": \"Delhi\", \"State\": \"Maharashtra\",\n",
    "    \n",
    "   \n",
    "},\n",
    "    \n",
    "{\n",
    "    \"Name-->\": \"Disha\", \"DOB-->\": \"10/09/1999\", \"Height \": \"162.12Cm.\", \"City\": \"Mumbai\", \"State\": \"Maharashtra\",\n",
    "    \n",
    "   \n",
    "},\n",
    "    \n",
    "{\n",
    "    \"Name-->\": \"Priya \", \"DOB-->\": \"14/12/2000\", \"Height \": \"160.11Cm.\", \"City\": \"Kolhapur\", \"State\": \"Maharashtra\",\n",
    "    \n",
    "   \n",
    "},\n",
    "    \n",
    "{      \n",
    "    \"Name-->\": \"Rupesh\", \"DOB-->\": \"11/02/1987\", \"Height \": \"175.10Cm.\", \"City\": \"patana\", \"State\": \"Goa\",\n",
    "    \n",
    "}\n",
    "       \n",
    "            ]\n",
    "\n",
    "  \n",
    "with open(\"Employees.json\", \"w\") as f:\n",
    "    json.dump(Employees, f)\n",
    "    S = open('Employees.json',)\n",
    "data = json.load(S)\n",
    "for n in range(len(Employees)):\n",
    "        Employees[n] = Employees[n]\n",
    "        print (Employees[n])\n",
    "        f.close()\n",
    "        "
   ]
  },
  {
   "cell_type": "code",
   "execution_count": null,
   "id": "54ebe09b",
   "metadata": {},
   "outputs": [],
   "source": []
  },
  {
   "cell_type": "code",
   "execution_count": null,
   "id": "27c2dfa7",
   "metadata": {},
   "outputs": [],
   "source": []
  }
 ],
 "metadata": {
  "kernelspec": {
   "display_name": "Python 3 (ipykernel)",
   "language": "python",
   "name": "python3"
  },
  "language_info": {
   "codemirror_mode": {
    "name": "ipython",
    "version": 3
   },
   "file_extension": ".py",
   "mimetype": "text/x-python",
   "name": "python",
   "nbconvert_exporter": "python",
   "pygments_lexer": "ipython3",
   "version": "3.9.12"
  },
  "vscode": {
   "interpreter": {
    "hash": "58837b1b657ea91009af8409fc244ae3b5ccf93ea980d6fb6b80adc5f697f4cc"
   }
  }
 },
 "nbformat": 4,
 "nbformat_minor": 5
}
