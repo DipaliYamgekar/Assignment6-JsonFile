{
 "cells": [
  {
   "cell_type": "code",
   "execution_count": 4,
   "id": "cbc89056",
   "metadata": {},
   "outputs": [],
   "source": [
    "import json\n",
    "dictionary = {\n",
    "    \"Andhra Pradesh\": \"Hyderabad\",\n",
    "    \"Arunachal Pradesh\": \"Itanagar\",\n",
    "    \"Assam \": \"Dispur\",\n",
    "    \"Bihar\": \"Patna\",\n",
    "    \"Chhattisgarh\": \"Raipur\",\n",
    "    \"Goa\": \"Panaji\",\n",
    "    \"Gujarat\": \"Gandhinagar\",\n",
    "   \n",
    "}\n",
    " \n",
    "with open(\"State.json\", \"w\") as outfile:\n",
    "    json.dump(dictionary, outfile)"
   ]
  },
  {
   "cell_type": "code",
   "execution_count": null,
   "id": "61759845",
   "metadata": {},
   "outputs": [],
   "source": []
  },
  {
   "cell_type": "code",
   "execution_count": null,
   "id": "52d9f4a1",
   "metadata": {},
   "outputs": [],
   "source": []
  }
 ],
 "metadata": {
  "kernelspec": {
   "display_name": "Python 3 (ipykernel)",
   "language": "python",
   "name": "python3"
  },
  "language_info": {
   "codemirror_mode": {
    "name": "ipython",
    "version": 3
   },
   "file_extension": ".py",
   "mimetype": "text/x-python",
   "name": "python",
   "nbconvert_exporter": "python",
   "pygments_lexer": "ipython3",
   "version": "3.9.12"
  }
 },
 "nbformat": 4,
 "nbformat_minor": 5
}
